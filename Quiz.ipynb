{
 "cells": [
  {
   "cell_type": "code",
   "execution_count": 4,
   "metadata": {},
   "outputs": [
    {
     "name": "stdout",
     "output_type": "stream",
     "text": [
      "Enter a number: 2\n",
      "4\n"
     ]
    }
   ],
   "source": [
    "class Square:\n",
    "    def __init__(self, side=1):\n",
    "        self.side = side\n",
    "        \n",
    "    def setSide(self):\n",
    "        if self.side < 0:\n",
    "            self.side = 0\n",
    "        else:\n",
    "            print(self.side * self.side)\n",
    "\n",
    "x=int(input(\"Enter a number: \"))     \n",
    "square = Square(x)\n",
    "square.setSide()"
   ]
  },
  {
   "cell_type": "code",
   "execution_count": null,
   "metadata": {},
   "outputs": [],
   "source": []
  },
  {
   "cell_type": "code",
   "execution_count": null,
   "metadata": {},
   "outputs": [],
   "source": [
    "1"
   ]
  }
 ],
 "metadata": {
  "kernelspec": {
   "display_name": "Python 3",
   "language": "python",
   "name": "python3"
  },
  "language_info": {
   "codemirror_mode": {
    "name": "ipython",
    "version": 3
   },
   "file_extension": ".py",
   "mimetype": "text/x-python",
   "name": "python",
   "nbconvert_exporter": "python",
   "pygments_lexer": "ipython3",
   "version": "3.8.5"
  }
 },
 "nbformat": 4,
 "nbformat_minor": 4
}
